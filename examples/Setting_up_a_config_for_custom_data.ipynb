{
 "cells": [
  {
   "cell_type": "markdown",
   "metadata": {},
   "source": [
    "# overview\n",
    "\n",
    "This example shows how to use `flux-data-qaqc` with a custom climate input file that is not from FLUXNET. The only real differences lie in the config file declarations therefore the entire workflow from the FLUXNET example notebook will work just the same. That notebook is recommended to be viewed for all general use whereas this one puts more focus on the formating rules of input data itself. \n",
    "\n",
    "---\n",
    "The data used herein is provided with the software package and can be downloaded [here](https://github.com/Open-ET/flux-data-qaqc/blob/master/examples/), it happens to be from a USGS eddy covariance flux tower for Dixie Valey Dense Vegetation. Details on the data can be found in this [report](https://pubs.usgs.gov/pp/1805/pdf/pp1805.pdf)."
   ]
  },
  {
   "cell_type": "code",
   "execution_count": 1,
   "metadata": {},
   "outputs": [
    {
     "data": {
      "text/html": [
       "\n",
       "    <div class=\"bk-root\">\n",
       "        <a href=\"https://bokeh.pydata.org\" target=\"_blank\" class=\"bk-logo bk-logo-small bk-logo-notebook\"></a>\n",
       "        <span id=\"1001\">Loading BokehJS ...</span>\n",
       "    </div>"
      ]
     },
     "metadata": {},
     "output_type": "display_data"
    },
    {
     "data": {
      "application/javascript": [
       "\n",
       "(function(root) {\n",
       "  function now() {\n",
       "    return new Date();\n",
       "  }\n",
       "\n",
       "  var force = true;\n",
       "\n",
       "  if (typeof (root._bokeh_onload_callbacks) === \"undefined\" || force === true) {\n",
       "    root._bokeh_onload_callbacks = [];\n",
       "    root._bokeh_is_loading = undefined;\n",
       "  }\n",
       "\n",
       "  var JS_MIME_TYPE = 'application/javascript';\n",
       "  var HTML_MIME_TYPE = 'text/html';\n",
       "  var EXEC_MIME_TYPE = 'application/vnd.bokehjs_exec.v0+json';\n",
       "  var CLASS_NAME = 'output_bokeh rendered_html';\n",
       "\n",
       "  /**\n",
       "   * Render data to the DOM node\n",
       "   */\n",
       "  function render(props, node) {\n",
       "    var script = document.createElement(\"script\");\n",
       "    node.appendChild(script);\n",
       "  }\n",
       "\n",
       "  /**\n",
       "   * Handle when an output is cleared or removed\n",
       "   */\n",
       "  function handleClearOutput(event, handle) {\n",
       "    var cell = handle.cell;\n",
       "\n",
       "    var id = cell.output_area._bokeh_element_id;\n",
       "    var server_id = cell.output_area._bokeh_server_id;\n",
       "    // Clean up Bokeh references\n",
       "    if (id != null && id in Bokeh.index) {\n",
       "      Bokeh.index[id].model.document.clear();\n",
       "      delete Bokeh.index[id];\n",
       "    }\n",
       "\n",
       "    if (server_id !== undefined) {\n",
       "      // Clean up Bokeh references\n",
       "      var cmd = \"from bokeh.io.state import curstate; print(curstate().uuid_to_server['\" + server_id + \"'].get_sessions()[0].document.roots[0]._id)\";\n",
       "      cell.notebook.kernel.execute(cmd, {\n",
       "        iopub: {\n",
       "          output: function(msg) {\n",
       "            var id = msg.content.text.trim();\n",
       "            if (id in Bokeh.index) {\n",
       "              Bokeh.index[id].model.document.clear();\n",
       "              delete Bokeh.index[id];\n",
       "            }\n",
       "          }\n",
       "        }\n",
       "      });\n",
       "      // Destroy server and session\n",
       "      var cmd = \"import bokeh.io.notebook as ion; ion.destroy_server('\" + server_id + \"')\";\n",
       "      cell.notebook.kernel.execute(cmd);\n",
       "    }\n",
       "  }\n",
       "\n",
       "  /**\n",
       "   * Handle when a new output is added\n",
       "   */\n",
       "  function handleAddOutput(event, handle) {\n",
       "    var output_area = handle.output_area;\n",
       "    var output = handle.output;\n",
       "\n",
       "    // limit handleAddOutput to display_data with EXEC_MIME_TYPE content only\n",
       "    if ((output.output_type != \"display_data\") || (!output.data.hasOwnProperty(EXEC_MIME_TYPE))) {\n",
       "      return\n",
       "    }\n",
       "\n",
       "    var toinsert = output_area.element.find(\".\" + CLASS_NAME.split(' ')[0]);\n",
       "\n",
       "    if (output.metadata[EXEC_MIME_TYPE][\"id\"] !== undefined) {\n",
       "      toinsert[toinsert.length - 1].firstChild.textContent = output.data[JS_MIME_TYPE];\n",
       "      // store reference to embed id on output_area\n",
       "      output_area._bokeh_element_id = output.metadata[EXEC_MIME_TYPE][\"id\"];\n",
       "    }\n",
       "    if (output.metadata[EXEC_MIME_TYPE][\"server_id\"] !== undefined) {\n",
       "      var bk_div = document.createElement(\"div\");\n",
       "      bk_div.innerHTML = output.data[HTML_MIME_TYPE];\n",
       "      var script_attrs = bk_div.children[0].attributes;\n",
       "      for (var i = 0; i < script_attrs.length; i++) {\n",
       "        toinsert[toinsert.length - 1].firstChild.setAttribute(script_attrs[i].name, script_attrs[i].value);\n",
       "      }\n",
       "      // store reference to server id on output_area\n",
       "      output_area._bokeh_server_id = output.metadata[EXEC_MIME_TYPE][\"server_id\"];\n",
       "    }\n",
       "  }\n",
       "\n",
       "  function register_renderer(events, OutputArea) {\n",
       "\n",
       "    function append_mime(data, metadata, element) {\n",
       "      // create a DOM node to render to\n",
       "      var toinsert = this.create_output_subarea(\n",
       "        metadata,\n",
       "        CLASS_NAME,\n",
       "        EXEC_MIME_TYPE\n",
       "      );\n",
       "      this.keyboard_manager.register_events(toinsert);\n",
       "      // Render to node\n",
       "      var props = {data: data, metadata: metadata[EXEC_MIME_TYPE]};\n",
       "      render(props, toinsert[toinsert.length - 1]);\n",
       "      element.append(toinsert);\n",
       "      return toinsert\n",
       "    }\n",
       "\n",
       "    /* Handle when an output is cleared or removed */\n",
       "    events.on('clear_output.CodeCell', handleClearOutput);\n",
       "    events.on('delete.Cell', handleClearOutput);\n",
       "\n",
       "    /* Handle when a new output is added */\n",
       "    events.on('output_added.OutputArea', handleAddOutput);\n",
       "\n",
       "    /**\n",
       "     * Register the mime type and append_mime function with output_area\n",
       "     */\n",
       "    OutputArea.prototype.register_mime_type(EXEC_MIME_TYPE, append_mime, {\n",
       "      /* Is output safe? */\n",
       "      safe: true,\n",
       "      /* Index of renderer in `output_area.display_order` */\n",
       "      index: 0\n",
       "    });\n",
       "  }\n",
       "\n",
       "  // register the mime type if in Jupyter Notebook environment and previously unregistered\n",
       "  if (root.Jupyter !== undefined) {\n",
       "    var events = require('base/js/events');\n",
       "    var OutputArea = require('notebook/js/outputarea').OutputArea;\n",
       "\n",
       "    if (OutputArea.prototype.mime_types().indexOf(EXEC_MIME_TYPE) == -1) {\n",
       "      register_renderer(events, OutputArea);\n",
       "    }\n",
       "  }\n",
       "\n",
       "  \n",
       "  if (typeof (root._bokeh_timeout) === \"undefined\" || force === true) {\n",
       "    root._bokeh_timeout = Date.now() + 5000;\n",
       "    root._bokeh_failed_load = false;\n",
       "  }\n",
       "\n",
       "  var NB_LOAD_WARNING = {'data': {'text/html':\n",
       "     \"<div style='background-color: #fdd'>\\n\"+\n",
       "     \"<p>\\n\"+\n",
       "     \"BokehJS does not appear to have successfully loaded. If loading BokehJS from CDN, this \\n\"+\n",
       "     \"may be due to a slow or bad network connection. Possible fixes:\\n\"+\n",
       "     \"</p>\\n\"+\n",
       "     \"<ul>\\n\"+\n",
       "     \"<li>re-rerun `output_notebook()` to attempt to load from CDN again, or</li>\\n\"+\n",
       "     \"<li>use INLINE resources instead, as so:</li>\\n\"+\n",
       "     \"</ul>\\n\"+\n",
       "     \"<code>\\n\"+\n",
       "     \"from bokeh.resources import INLINE\\n\"+\n",
       "     \"output_notebook(resources=INLINE)\\n\"+\n",
       "     \"</code>\\n\"+\n",
       "     \"</div>\"}};\n",
       "\n",
       "  function display_loaded() {\n",
       "    var el = document.getElementById(\"1001\");\n",
       "    if (el != null) {\n",
       "      el.textContent = \"BokehJS is loading...\";\n",
       "    }\n",
       "    if (root.Bokeh !== undefined) {\n",
       "      if (el != null) {\n",
       "        el.textContent = \"BokehJS \" + root.Bokeh.version + \" successfully loaded.\";\n",
       "      }\n",
       "    } else if (Date.now() < root._bokeh_timeout) {\n",
       "      setTimeout(display_loaded, 100)\n",
       "    }\n",
       "  }\n",
       "\n",
       "\n",
       "  function run_callbacks() {\n",
       "    try {\n",
       "      root._bokeh_onload_callbacks.forEach(function(callback) { callback() });\n",
       "    }\n",
       "    finally {\n",
       "      delete root._bokeh_onload_callbacks\n",
       "    }\n",
       "    console.info(\"Bokeh: all callbacks have finished\");\n",
       "  }\n",
       "\n",
       "  function load_libs(js_urls, callback) {\n",
       "    root._bokeh_onload_callbacks.push(callback);\n",
       "    if (root._bokeh_is_loading > 0) {\n",
       "      console.log(\"Bokeh: BokehJS is being loaded, scheduling callback at\", now());\n",
       "      return null;\n",
       "    }\n",
       "    if (js_urls == null || js_urls.length === 0) {\n",
       "      run_callbacks();\n",
       "      return null;\n",
       "    }\n",
       "    console.log(\"Bokeh: BokehJS not loaded, scheduling load and callback at\", now());\n",
       "    root._bokeh_is_loading = js_urls.length;\n",
       "    for (var i = 0; i < js_urls.length; i++) {\n",
       "      var url = js_urls[i];\n",
       "      var s = document.createElement('script');\n",
       "      s.src = url;\n",
       "      s.async = false;\n",
       "      s.onreadystatechange = s.onload = function() {\n",
       "        root._bokeh_is_loading--;\n",
       "        if (root._bokeh_is_loading === 0) {\n",
       "          console.log(\"Bokeh: all BokehJS libraries loaded\");\n",
       "          run_callbacks()\n",
       "        }\n",
       "      };\n",
       "      s.onerror = function() {\n",
       "        console.warn(\"failed to load library \" + url);\n",
       "      };\n",
       "      console.log(\"Bokeh: injecting script tag for BokehJS library: \", url);\n",
       "      document.getElementsByTagName(\"head\")[0].appendChild(s);\n",
       "    }\n",
       "  };var element = document.getElementById(\"1001\");\n",
       "  if (element == null) {\n",
       "    console.log(\"Bokeh: ERROR: autoload.js configured with elementid '1001' but no matching script tag was found. \")\n",
       "    return false;\n",
       "  }\n",
       "\n",
       "  var js_urls = [\"https://cdn.pydata.org/bokeh/release/bokeh-1.0.4.min.js\", \"https://cdn.pydata.org/bokeh/release/bokeh-widgets-1.0.4.min.js\", \"https://cdn.pydata.org/bokeh/release/bokeh-tables-1.0.4.min.js\", \"https://cdn.pydata.org/bokeh/release/bokeh-gl-1.0.4.min.js\"];\n",
       "\n",
       "  var inline_js = [\n",
       "    function(Bokeh) {\n",
       "      Bokeh.set_log_level(\"info\");\n",
       "    },\n",
       "    \n",
       "    function(Bokeh) {\n",
       "      \n",
       "    },\n",
       "    function(Bokeh) {\n",
       "      console.log(\"Bokeh: injecting CSS: https://cdn.pydata.org/bokeh/release/bokeh-1.0.4.min.css\");\n",
       "      Bokeh.embed.inject_css(\"https://cdn.pydata.org/bokeh/release/bokeh-1.0.4.min.css\");\n",
       "      console.log(\"Bokeh: injecting CSS: https://cdn.pydata.org/bokeh/release/bokeh-widgets-1.0.4.min.css\");\n",
       "      Bokeh.embed.inject_css(\"https://cdn.pydata.org/bokeh/release/bokeh-widgets-1.0.4.min.css\");\n",
       "      console.log(\"Bokeh: injecting CSS: https://cdn.pydata.org/bokeh/release/bokeh-tables-1.0.4.min.css\");\n",
       "      Bokeh.embed.inject_css(\"https://cdn.pydata.org/bokeh/release/bokeh-tables-1.0.4.min.css\");\n",
       "    }\n",
       "  ];\n",
       "\n",
       "  function run_inline_js() {\n",
       "    \n",
       "    if ((root.Bokeh !== undefined) || (force === true)) {\n",
       "      for (var i = 0; i < inline_js.length; i++) {\n",
       "        inline_js[i].call(root, root.Bokeh);\n",
       "      }if (force === true) {\n",
       "        display_loaded();\n",
       "      }} else if (Date.now() < root._bokeh_timeout) {\n",
       "      setTimeout(run_inline_js, 100);\n",
       "    } else if (!root._bokeh_failed_load) {\n",
       "      console.log(\"Bokeh: BokehJS failed to load within specified timeout.\");\n",
       "      root._bokeh_failed_load = true;\n",
       "    } else if (force !== true) {\n",
       "      var cell = $(document.getElementById(\"1001\")).parents('.cell').data().cell;\n",
       "      cell.output_area.append_execute_result(NB_LOAD_WARNING)\n",
       "    }\n",
       "\n",
       "  }\n",
       "\n",
       "  if (root._bokeh_is_loading === 0) {\n",
       "    console.log(\"Bokeh: BokehJS loaded, going straight to plotting\");\n",
       "    run_inline_js();\n",
       "  } else {\n",
       "    load_libs(js_urls, function() {\n",
       "      console.log(\"Bokeh: BokehJS plotting callback run at\", now());\n",
       "      run_inline_js();\n",
       "    });\n",
       "  }\n",
       "}(window));"
      ],
      "application/vnd.bokehjs_load.v0+json": "\n(function(root) {\n  function now() {\n    return new Date();\n  }\n\n  var force = true;\n\n  if (typeof (root._bokeh_onload_callbacks) === \"undefined\" || force === true) {\n    root._bokeh_onload_callbacks = [];\n    root._bokeh_is_loading = undefined;\n  }\n\n  \n\n  \n  if (typeof (root._bokeh_timeout) === \"undefined\" || force === true) {\n    root._bokeh_timeout = Date.now() + 5000;\n    root._bokeh_failed_load = false;\n  }\n\n  var NB_LOAD_WARNING = {'data': {'text/html':\n     \"<div style='background-color: #fdd'>\\n\"+\n     \"<p>\\n\"+\n     \"BokehJS does not appear to have successfully loaded. If loading BokehJS from CDN, this \\n\"+\n     \"may be due to a slow or bad network connection. Possible fixes:\\n\"+\n     \"</p>\\n\"+\n     \"<ul>\\n\"+\n     \"<li>re-rerun `output_notebook()` to attempt to load from CDN again, or</li>\\n\"+\n     \"<li>use INLINE resources instead, as so:</li>\\n\"+\n     \"</ul>\\n\"+\n     \"<code>\\n\"+\n     \"from bokeh.resources import INLINE\\n\"+\n     \"output_notebook(resources=INLINE)\\n\"+\n     \"</code>\\n\"+\n     \"</div>\"}};\n\n  function display_loaded() {\n    var el = document.getElementById(\"1001\");\n    if (el != null) {\n      el.textContent = \"BokehJS is loading...\";\n    }\n    if (root.Bokeh !== undefined) {\n      if (el != null) {\n        el.textContent = \"BokehJS \" + root.Bokeh.version + \" successfully loaded.\";\n      }\n    } else if (Date.now() < root._bokeh_timeout) {\n      setTimeout(display_loaded, 100)\n    }\n  }\n\n\n  function run_callbacks() {\n    try {\n      root._bokeh_onload_callbacks.forEach(function(callback) { callback() });\n    }\n    finally {\n      delete root._bokeh_onload_callbacks\n    }\n    console.info(\"Bokeh: all callbacks have finished\");\n  }\n\n  function load_libs(js_urls, callback) {\n    root._bokeh_onload_callbacks.push(callback);\n    if (root._bokeh_is_loading > 0) {\n      console.log(\"Bokeh: BokehJS is being loaded, scheduling callback at\", now());\n      return null;\n    }\n    if (js_urls == null || js_urls.length === 0) {\n      run_callbacks();\n      return null;\n    }\n    console.log(\"Bokeh: BokehJS not loaded, scheduling load and callback at\", now());\n    root._bokeh_is_loading = js_urls.length;\n    for (var i = 0; i < js_urls.length; i++) {\n      var url = js_urls[i];\n      var s = document.createElement('script');\n      s.src = url;\n      s.async = false;\n      s.onreadystatechange = s.onload = function() {\n        root._bokeh_is_loading--;\n        if (root._bokeh_is_loading === 0) {\n          console.log(\"Bokeh: all BokehJS libraries loaded\");\n          run_callbacks()\n        }\n      };\n      s.onerror = function() {\n        console.warn(\"failed to load library \" + url);\n      };\n      console.log(\"Bokeh: injecting script tag for BokehJS library: \", url);\n      document.getElementsByTagName(\"head\")[0].appendChild(s);\n    }\n  };var element = document.getElementById(\"1001\");\n  if (element == null) {\n    console.log(\"Bokeh: ERROR: autoload.js configured with elementid '1001' but no matching script tag was found. \")\n    return false;\n  }\n\n  var js_urls = [\"https://cdn.pydata.org/bokeh/release/bokeh-1.0.4.min.js\", \"https://cdn.pydata.org/bokeh/release/bokeh-widgets-1.0.4.min.js\", \"https://cdn.pydata.org/bokeh/release/bokeh-tables-1.0.4.min.js\", \"https://cdn.pydata.org/bokeh/release/bokeh-gl-1.0.4.min.js\"];\n\n  var inline_js = [\n    function(Bokeh) {\n      Bokeh.set_log_level(\"info\");\n    },\n    \n    function(Bokeh) {\n      \n    },\n    function(Bokeh) {\n      console.log(\"Bokeh: injecting CSS: https://cdn.pydata.org/bokeh/release/bokeh-1.0.4.min.css\");\n      Bokeh.embed.inject_css(\"https://cdn.pydata.org/bokeh/release/bokeh-1.0.4.min.css\");\n      console.log(\"Bokeh: injecting CSS: https://cdn.pydata.org/bokeh/release/bokeh-widgets-1.0.4.min.css\");\n      Bokeh.embed.inject_css(\"https://cdn.pydata.org/bokeh/release/bokeh-widgets-1.0.4.min.css\");\n      console.log(\"Bokeh: injecting CSS: https://cdn.pydata.org/bokeh/release/bokeh-tables-1.0.4.min.css\");\n      Bokeh.embed.inject_css(\"https://cdn.pydata.org/bokeh/release/bokeh-tables-1.0.4.min.css\");\n    }\n  ];\n\n  function run_inline_js() {\n    \n    if ((root.Bokeh !== undefined) || (force === true)) {\n      for (var i = 0; i < inline_js.length; i++) {\n        inline_js[i].call(root, root.Bokeh);\n      }if (force === true) {\n        display_loaded();\n      }} else if (Date.now() < root._bokeh_timeout) {\n      setTimeout(run_inline_js, 100);\n    } else if (!root._bokeh_failed_load) {\n      console.log(\"Bokeh: BokehJS failed to load within specified timeout.\");\n      root._bokeh_failed_load = true;\n    } else if (force !== true) {\n      var cell = $(document.getElementById(\"1001\")).parents('.cell').data().cell;\n      cell.output_area.append_execute_result(NB_LOAD_WARNING)\n    }\n\n  }\n\n  if (root._bokeh_is_loading === 0) {\n    console.log(\"Bokeh: BokehJS loaded, going straight to plotting\");\n    run_inline_js();\n  } else {\n    load_libs(js_urls, function() {\n      console.log(\"Bokeh: BokehJS plotting callback run at\", now());\n      run_inline_js();\n    });\n  }\n}(window));"
     },
     "metadata": {},
     "output_type": "display_data"
    }
   ],
   "source": [
    "%load_ext autoreload\n",
    "%autoreload 2\n",
    "import sys\n",
    "# currently not installable so import from parent dir\n",
    "sys.path.append('..')\n",
    "from fluxdataqaqc.data import Data\n",
    "from fluxdataqaqc.qaqc import QaQc \n",
    "from bokeh.plotting import figure, show\n",
    "from bokeh.models.formatters import DatetimeTickFormatter\n",
    "from bokeh.io import output_notebook\n",
    "output_notebook()"
   ]
  },
  {
   "cell_type": "markdown",
   "metadata": {},
   "source": [
    "# seting up a config file \n",
    "---\n",
    "The config file needed for using `flux-data-qaqc` has two major sections:\n",
    "1. METADATA\n",
    "2. DATA\n",
    "\n",
    "Currently in **METADATA**, the \"station_elevation\" (expected in meters) and latitude (decimal degrees) fields are used to calculate clear sky potential solar radiation. The item \"missing_data_value\" is used to correctly parse missing data in the climate time series. Other metadata is not used currently but may be useful for custom workflows, more on this later.\n",
    "\n",
    "The **DATA** section of the config file is where you specify climate variables and their units. There are two major functionalities in `flux-data-qaqc`, first, correcting surface energy balance by adjusting latent energy and sensible heat fluxes. Second, it serves as a robust way to read in different time series data and simply plot their daily and monthly time series. The latter is under development but generally speaking the module is able to generate useful interactive plots of arbitrary time series data. \n",
    "\n",
    "Here is a list of all the \"expected\" climate variable names in the **DATA** section:"
   ]
  },
  {
   "cell_type": "code",
   "execution_count": 21,
   "metadata": {},
   "outputs": [
    {
     "name": "stdout",
     "output_type": "stream",
     "text": [
      "datestring_col\n",
      "year_col\n",
      "month_col\n",
      "day_col\n",
      "net_radiation_col\n",
      "net_radiation_units\n",
      "ground_flux_col\n",
      "ground_flux_units\n",
      "latent_heat_flux_col\n",
      "latent_heat_flux_units\n",
      "latent_heat_flux_corrected_col\n",
      "latent_heat_flux_corrected_units\n",
      "sensible_heat_flux_col\n",
      "sensible_heat_flux_units\n",
      "sensible_heat_flux_corrected_col\n",
      "sensible_heat_flux_corrected_units\n",
      "shortwave_in_col\n",
      "shortwave_in_units\n",
      "shortwave_out_col\n",
      "shortwave_out_units\n",
      "shortwave_pot_col\n",
      "shortwave_pot_units\n",
      "longwave_in_col\n",
      "longwave_in_units\n",
      "longwave_out_col\n",
      "longwave_out_units\n",
      "vap_press_col\n",
      "vap_press_units\n",
      "vap_press_def_col\n",
      "vap_press_def_units\n",
      "avg_temp_col\n",
      "avg_temp_units\n",
      "precip_col\n",
      "precip_units\n",
      "wind_spd_col\n",
      "wind_spd_units\n"
     ]
    }
   ],
   "source": [
    "config_path = 'USGS_config.ini'\n",
    "d = Data(config_path)\n",
    "for each in d.config.items('DATA'):\n",
    "    print(each[0])"
   ]
  },
  {
   "cell_type": "markdown",
   "metadata": {},
   "source": [
    "**Note:** You may not have any of the expected climate variables in your data, and specify them all as missing ('na') however the result will be an output dataset of null values, and no plots will be produced!"
   ]
  },
  {
   "cell_type": "markdown",
   "metadata": {},
   "source": [
    "## create a ``Data`` object to read in time series data using a config file"
   ]
  },
  {
   "cell_type": "code",
   "execution_count": 22,
   "metadata": {},
   "outputs": [
    {
     "data": {
      "text/plain": [
       "[('climate_file_path', 'raw_subhour_DVDV_10.xlsx'),\n",
       " ('station_latitude', '39.762511'),\n",
       " ('station_longitude', '-117.960100'),\n",
       " ('station_elevation', '1046'),\n",
       " ('anemometer_height', '2.72'),\n",
       " ('missing_data_value', '-9999')]"
      ]
     },
     "execution_count": 22,
     "metadata": {},
     "output_type": "execute_result"
    }
   ],
   "source": [
    "d = Data(config_path)\n",
    "# you can access all metadata and datain the config file as a list\n",
    "d.config.items('METADATA') # can access the DATA section the same way"
   ]
  },
  {
   "cell_type": "code",
   "execution_count": 23,
   "metadata": {},
   "outputs": [
    {
     "data": {
      "text/plain": [
       "'1046'"
      ]
     },
     "execution_count": 23,
     "metadata": {},
     "output_type": "execute_result"
    }
   ],
   "source": [
    "# or as a dict, e.g. to access specific values by name\n",
    "d.config.get('METADATA','station_elevation')"
   ]
  },
  {
   "cell_type": "code",
   "execution_count": 24,
   "metadata": {},
   "outputs": [
    {
     "name": "stdout",
     "output_type": "stream",
     "text": [
      "/home/john/flux-data-qaqc/examples/raw_subhour_DVDV_10.xlsx \n",
      " /home/john/flux-data-qaqc/examples/USGS_config.ini\n"
     ]
    }
   ],
   "source": [
    "# path to climate time series input and config files\n",
    "print(d.climate_file, '\\n', d.config_file)"
   ]
  },
  {
   "cell_type": "code",
   "execution_count": 25,
   "metadata": {},
   "outputs": [
    {
     "data": {
      "text/plain": [
       "Index(['Timestamp', 'ET, in.', 'Net radiation, W/m2', 'Latent-heat flux, W/m2',\n",
       "       'Sensible-heat flux, W/m2', 'Soil-heat flux, W/m2'],\n",
       "      dtype='object')"
      ]
     },
     "execution_count": 25,
     "metadata": {},
     "output_type": "execute_result"
    }
   ],
   "source": [
    "# view full header of input time series file\n",
    "d.header"
   ]
  },
  {
   "cell_type": "markdown",
   "metadata": {},
   "source": [
    "# load date-indexed DataFrame using ``.df``\n",
    "\n",
    "* note, if there are variables stated in the config file but not found in the header of the input file, they will be filled with NaN (null) values in the dataframe"
   ]
  },
  {
   "cell_type": "code",
   "execution_count": 8,
   "metadata": {},
   "outputs": [
    {
     "data": {
      "text/html": [
       "<div>\n",
       "<style scoped>\n",
       "    .dataframe tbody tr th:only-of-type {\n",
       "        vertical-align: middle;\n",
       "    }\n",
       "\n",
       "    .dataframe tbody tr th {\n",
       "        vertical-align: top;\n",
       "    }\n",
       "\n",
       "    .dataframe thead th {\n",
       "        text-align: right;\n",
       "    }\n",
       "</style>\n",
       "<table border=\"1\" class=\"dataframe\">\n",
       "  <thead>\n",
       "    <tr style=\"text-align: right;\">\n",
       "      <th></th>\n",
       "      <th>Rn</th>\n",
       "      <th>LE</th>\n",
       "      <th>H</th>\n",
       "      <th>G</th>\n",
       "    </tr>\n",
       "    <tr>\n",
       "      <th>date</th>\n",
       "      <th></th>\n",
       "      <th></th>\n",
       "      <th></th>\n",
       "      <th></th>\n",
       "    </tr>\n",
       "  </thead>\n",
       "  <tbody>\n",
       "    <tr>\n",
       "      <th>2009-10-01 00:00:00</th>\n",
       "      <td>-54.024218</td>\n",
       "      <td>0.70761</td>\n",
       "      <td>0.95511</td>\n",
       "      <td>-40.423659</td>\n",
       "    </tr>\n",
       "    <tr>\n",
       "      <th>2009-10-01 00:30:00</th>\n",
       "      <td>-51.077447</td>\n",
       "      <td>0.04837</td>\n",
       "      <td>-1.24935</td>\n",
       "      <td>-33.353833</td>\n",
       "    </tr>\n",
       "    <tr>\n",
       "      <th>2009-10-01 01:00:00</th>\n",
       "      <td>-50.994389</td>\n",
       "      <td>0.68862</td>\n",
       "      <td>1.91101</td>\n",
       "      <td>-43.179005</td>\n",
       "    </tr>\n",
       "    <tr>\n",
       "      <th>2009-10-01 01:30:00</th>\n",
       "      <td>-51.350324</td>\n",
       "      <td>-1.85829</td>\n",
       "      <td>-15.49440</td>\n",
       "      <td>-40.862015</td>\n",
       "    </tr>\n",
       "    <tr>\n",
       "      <th>2009-10-01 02:00:00</th>\n",
       "      <td>-51.066042</td>\n",
       "      <td>-1.80485</td>\n",
       "      <td>-19.13570</td>\n",
       "      <td>-39.809369</td>\n",
       "    </tr>\n",
       "  </tbody>\n",
       "</table>\n",
       "</div>"
      ],
      "text/plain": [
       "                            Rn       LE         H          G\n",
       "date                                                        \n",
       "2009-10-01 00:00:00 -54.024218  0.70761   0.95511 -40.423659\n",
       "2009-10-01 00:30:00 -51.077447  0.04837  -1.24935 -33.353833\n",
       "2009-10-01 01:00:00 -50.994389  0.68862   1.91101 -43.179005\n",
       "2009-10-01 01:30:00 -51.350324 -1.85829 -15.49440 -40.862015\n",
       "2009-10-01 02:00:00 -51.066042 -1.80485 -19.13570 -39.809369"
      ]
     },
     "execution_count": 8,
     "metadata": {},
     "output_type": "execute_result"
    }
   ],
   "source": [
    "d.df.head()"
   ]
  },
  {
   "cell_type": "markdown",
   "metadata": {},
   "source": [
    "## you can now modify or assign new data using all tools available in Pandas"
   ]
  },
  {
   "cell_type": "markdown",
   "metadata": {},
   "source": [
    "---\n",
    "# using the `QaQc` class to correct latent energy and sensible heat\n",
    "\n",
    "* note, the method used for corrections will be documented soon"
   ]
  },
  {
   "cell_type": "code",
   "execution_count": 9,
   "metadata": {},
   "outputs": [
    {
     "name": "stdout",
     "output_type": "stream",
     "text": [
      "The input data temporal frequency appears to be less than daily, it will be resampled to daily.\n"
     ]
    }
   ],
   "source": [
    "q = QaQc(d)"
   ]
  },
  {
   "cell_type": "markdown",
   "metadata": {},
   "source": [
    "### note that the input data in this example is at hourly frequency, when creating a `QAQC` object the temporal frequency is resampled to daily"
   ]
  },
  {
   "cell_type": "code",
   "execution_count": 10,
   "metadata": {},
   "outputs": [
    {
     "data": {
      "text/plain": [
       "False"
      ]
     },
     "execution_count": 10,
     "metadata": {},
     "output_type": "execute_result"
    }
   ],
   "source": [
    "# data is not corrected yet:\n",
    "q.corrected"
   ]
  },
  {
   "cell_type": "code",
   "execution_count": 11,
   "metadata": {},
   "outputs": [
    {
     "data": {
      "text/html": [
       "<div>\n",
       "<style scoped>\n",
       "    .dataframe tbody tr th:only-of-type {\n",
       "        vertical-align: middle;\n",
       "    }\n",
       "\n",
       "    .dataframe tbody tr th {\n",
       "        vertical-align: top;\n",
       "    }\n",
       "\n",
       "    .dataframe thead th {\n",
       "        text-align: right;\n",
       "    }\n",
       "</style>\n",
       "<table border=\"1\" class=\"dataframe\">\n",
       "  <thead>\n",
       "    <tr style=\"text-align: right;\">\n",
       "      <th></th>\n",
       "      <th>Rn</th>\n",
       "      <th>G</th>\n",
       "      <th>LE</th>\n",
       "      <th>H</th>\n",
       "    </tr>\n",
       "    <tr>\n",
       "      <th>date</th>\n",
       "      <th></th>\n",
       "      <th></th>\n",
       "      <th></th>\n",
       "      <th></th>\n",
       "    </tr>\n",
       "  </thead>\n",
       "  <tbody>\n",
       "    <tr>\n",
       "      <th>2009-10-01</th>\n",
       "      <td>98.841967</td>\n",
       "      <td>-13.229871</td>\n",
       "      <td>7.908439</td>\n",
       "      <td>72.455098</td>\n",
       "    </tr>\n",
       "    <tr>\n",
       "      <th>2009-10-02</th>\n",
       "      <td>89.651032</td>\n",
       "      <td>-6.220552</td>\n",
       "      <td>8.303841</td>\n",
       "      <td>58.284511</td>\n",
       "    </tr>\n",
       "    <tr>\n",
       "      <th>2009-10-03</th>\n",
       "      <td>95.529480</td>\n",
       "      <td>-1.697661</td>\n",
       "      <td>8.992836</td>\n",
       "      <td>64.243684</td>\n",
       "    </tr>\n",
       "    <tr>\n",
       "      <th>2009-10-04</th>\n",
       "      <td>91.640820</td>\n",
       "      <td>-8.383377</td>\n",
       "      <td>6.542247</td>\n",
       "      <td>69.620512</td>\n",
       "    </tr>\n",
       "    <tr>\n",
       "      <th>2009-10-05</th>\n",
       "      <td>65.615026</td>\n",
       "      <td>-2.021651</td>\n",
       "      <td>5.588513</td>\n",
       "      <td>39.688535</td>\n",
       "    </tr>\n",
       "  </tbody>\n",
       "</table>\n",
       "</div>"
      ],
      "text/plain": [
       "                   Rn          G        LE          H\n",
       "date                                                 \n",
       "2009-10-01  98.841967 -13.229871  7.908439  72.455098\n",
       "2009-10-02  89.651032  -6.220552  8.303841  58.284511\n",
       "2009-10-03  95.529480  -1.697661  8.992836  64.243684\n",
       "2009-10-04  91.640820  -8.383377  6.542247  69.620512\n",
       "2009-10-05  65.615026  -2.021651  5.588513  39.688535"
      ]
     },
     "execution_count": 11,
     "metadata": {},
     "output_type": "execute_result"
    }
   ],
   "source": [
    "# data has not changed...\n",
    "q.df.head()"
   ]
  },
  {
   "cell_type": "code",
   "execution_count": 13,
   "metadata": {},
   "outputs": [
    {
     "data": {
      "text/plain": [
       "(611, 36.4267)"
      ]
     },
     "execution_count": 13,
     "metadata": {},
     "output_type": "execute_result"
    }
   ],
   "source": [
    "q.elevation, q.latitude # necessary for computing clear sky potential radiation"
   ]
  },
  {
   "cell_type": "markdown",
   "metadata": {},
   "source": [
    "# correct energy balance using `flux-data-qaqc` methods"
   ]
  },
  {
   "cell_type": "code",
   "execution_count": 15,
   "metadata": {},
   "outputs": [
    {
     "data": {
      "text/plain": [
       "True"
      ]
     },
     "execution_count": 15,
     "metadata": {},
     "output_type": "execute_result"
    }
   ],
   "source": [
    "q.correct_data()\n",
    "q.corrected"
   ]
  },
  {
   "cell_type": "code",
   "execution_count": 16,
   "metadata": {},
   "outputs": [
    {
     "name": "stdout",
     "output_type": "stream",
     "text": [
      "('Rn, G, LE, H, energy, flux, bowen_ratio, LE_adj, H_adj, flux_adj, et_reg, '\n",
      " 'et_adj, ebc_reg, ebc_adj, rso')\n"
     ]
    }
   ],
   "source": [
    "# now we have original data plus adjusted variables, energy balance ratios, and others\n",
    "pprint.pprint(', '.join(q.df.columns))"
   ]
  },
  {
   "cell_type": "code",
   "execution_count": 17,
   "metadata": {},
   "outputs": [
    {
     "data": {
      "text/html": [
       "<div>\n",
       "<style scoped>\n",
       "    .dataframe tbody tr th:only-of-type {\n",
       "        vertical-align: middle;\n",
       "    }\n",
       "\n",
       "    .dataframe tbody tr th {\n",
       "        vertical-align: top;\n",
       "    }\n",
       "\n",
       "    .dataframe thead th {\n",
       "        text-align: right;\n",
       "    }\n",
       "</style>\n",
       "<table border=\"1\" class=\"dataframe\">\n",
       "  <thead>\n",
       "    <tr style=\"text-align: right;\">\n",
       "      <th></th>\n",
       "      <th>Rn</th>\n",
       "      <th>G</th>\n",
       "      <th>LE</th>\n",
       "      <th>H</th>\n",
       "      <th>energy</th>\n",
       "      <th>flux</th>\n",
       "      <th>bowen_ratio</th>\n",
       "      <th>LE_adj</th>\n",
       "      <th>H_adj</th>\n",
       "      <th>flux_adj</th>\n",
       "      <th>et_reg</th>\n",
       "      <th>et_adj</th>\n",
       "      <th>ebc_reg</th>\n",
       "      <th>ebc_adj</th>\n",
       "      <th>rso</th>\n",
       "    </tr>\n",
       "    <tr>\n",
       "      <th>date</th>\n",
       "      <th></th>\n",
       "      <th></th>\n",
       "      <th></th>\n",
       "      <th></th>\n",
       "      <th></th>\n",
       "      <th></th>\n",
       "      <th></th>\n",
       "      <th></th>\n",
       "      <th></th>\n",
       "      <th></th>\n",
       "      <th></th>\n",
       "      <th></th>\n",
       "      <th></th>\n",
       "      <th></th>\n",
       "      <th></th>\n",
       "    </tr>\n",
       "  </thead>\n",
       "  <tbody>\n",
       "    <tr>\n",
       "      <th>2009-10-01</th>\n",
       "      <td>98.841967</td>\n",
       "      <td>-13.229871</td>\n",
       "      <td>7.908439</td>\n",
       "      <td>72.455098</td>\n",
       "      <td>112.071838</td>\n",
       "      <td>80.363537</td>\n",
       "      <td>9.161744</td>\n",
       "      <td>11.028800</td>\n",
       "      <td>101.043039</td>\n",
       "      <td>112.071838</td>\n",
       "      <td>0.273316</td>\n",
       "      <td>0.381155</td>\n",
       "      <td>0.717072</td>\n",
       "      <td>1.0</td>\n",
       "      <td>243.228821</td>\n",
       "    </tr>\n",
       "    <tr>\n",
       "      <th>2009-10-02</th>\n",
       "      <td>89.651032</td>\n",
       "      <td>-6.220552</td>\n",
       "      <td>8.303841</td>\n",
       "      <td>58.284511</td>\n",
       "      <td>95.871584</td>\n",
       "      <td>66.588352</td>\n",
       "      <td>7.018982</td>\n",
       "      <td>11.955580</td>\n",
       "      <td>83.916004</td>\n",
       "      <td>95.871584</td>\n",
       "      <td>0.286981</td>\n",
       "      <td>0.413185</td>\n",
       "      <td>0.694558</td>\n",
       "      <td>1.0</td>\n",
       "      <td>241.169559</td>\n",
       "    </tr>\n",
       "    <tr>\n",
       "      <th>2009-10-03</th>\n",
       "      <td>95.529480</td>\n",
       "      <td>-1.697661</td>\n",
       "      <td>8.992836</td>\n",
       "      <td>64.243684</td>\n",
       "      <td>97.227140</td>\n",
       "      <td>73.236521</td>\n",
       "      <td>7.143873</td>\n",
       "      <td>11.938685</td>\n",
       "      <td>85.288455</td>\n",
       "      <td>97.227140</td>\n",
       "      <td>0.310792</td>\n",
       "      <td>0.412601</td>\n",
       "      <td>0.753252</td>\n",
       "      <td>1.0</td>\n",
       "      <td>239.111036</td>\n",
       "    </tr>\n",
       "    <tr>\n",
       "      <th>2009-10-04</th>\n",
       "      <td>91.640820</td>\n",
       "      <td>-8.383377</td>\n",
       "      <td>6.542247</td>\n",
       "      <td>69.620512</td>\n",
       "      <td>100.024197</td>\n",
       "      <td>76.162759</td>\n",
       "      <td>10.641682</td>\n",
       "      <td>8.591903</td>\n",
       "      <td>91.432294</td>\n",
       "      <td>100.024197</td>\n",
       "      <td>0.226100</td>\n",
       "      <td>0.296936</td>\n",
       "      <td>0.761443</td>\n",
       "      <td>1.0</td>\n",
       "      <td>237.054038</td>\n",
       "    </tr>\n",
       "    <tr>\n",
       "      <th>2009-10-05</th>\n",
       "      <td>65.615026</td>\n",
       "      <td>-2.021651</td>\n",
       "      <td>5.588513</td>\n",
       "      <td>39.688535</td>\n",
       "      <td>67.636676</td>\n",
       "      <td>45.277048</td>\n",
       "      <td>7.101805</td>\n",
       "      <td>8.348346</td>\n",
       "      <td>59.288330</td>\n",
       "      <td>67.636676</td>\n",
       "      <td>0.193139</td>\n",
       "      <td>0.288519</td>\n",
       "      <td>0.669416</td>\n",
       "      <td>1.0</td>\n",
       "      <td>234.999354</td>\n",
       "    </tr>\n",
       "  </tbody>\n",
       "</table>\n",
       "</div>"
      ],
      "text/plain": [
       "                   Rn          G        LE          H      energy       flux  \\\n",
       "date                                                                           \n",
       "2009-10-01  98.841967 -13.229871  7.908439  72.455098  112.071838  80.363537   \n",
       "2009-10-02  89.651032  -6.220552  8.303841  58.284511   95.871584  66.588352   \n",
       "2009-10-03  95.529480  -1.697661  8.992836  64.243684   97.227140  73.236521   \n",
       "2009-10-04  91.640820  -8.383377  6.542247  69.620512  100.024197  76.162759   \n",
       "2009-10-05  65.615026  -2.021651  5.588513  39.688535   67.636676  45.277048   \n",
       "\n",
       "            bowen_ratio     LE_adj       H_adj    flux_adj    et_reg  \\\n",
       "date                                                                   \n",
       "2009-10-01     9.161744  11.028800  101.043039  112.071838  0.273316   \n",
       "2009-10-02     7.018982  11.955580   83.916004   95.871584  0.286981   \n",
       "2009-10-03     7.143873  11.938685   85.288455   97.227140  0.310792   \n",
       "2009-10-04    10.641682   8.591903   91.432294  100.024197  0.226100   \n",
       "2009-10-05     7.101805   8.348346   59.288330   67.636676  0.193139   \n",
       "\n",
       "              et_adj   ebc_reg  ebc_adj         rso  \n",
       "date                                                 \n",
       "2009-10-01  0.381155  0.717072      1.0  243.228821  \n",
       "2009-10-02  0.413185  0.694558      1.0  241.169559  \n",
       "2009-10-03  0.412601  0.753252      1.0  239.111036  \n",
       "2009-10-04  0.296936  0.761443      1.0  237.054038  \n",
       "2009-10-05  0.288519  0.669416      1.0  234.999354  "
      ]
     },
     "execution_count": 17,
     "metadata": {},
     "output_type": "execute_result"
    }
   ],
   "source": [
    "q.df.head()"
   ]
  },
  {
   "cell_type": "code",
   "execution_count": 18,
   "metadata": {},
   "outputs": [
    {
     "data": {
      "text/html": [
       "\n",
       "\n",
       "\n",
       "\n",
       "\n",
       "\n",
       "  <div class=\"bk-root\" id=\"6d0f04a5-02c6-4a45-aa9f-0ee3978c9835\" data-root-id=\"1002\"></div>\n"
      ]
     },
     "metadata": {},
     "output_type": "display_data"
    },
    {
     "data": {
      "application/javascript": [
       "(function(root) {\n",
       "  function embed_document(root) {\n",
       "    \n",
       "  var docs_json = {\"e999fb0c-45b3-45de-9cdf-d3d5aa9a28a1\":{\"roots\":{\"references\":[{\"attributes\":{\"below\":[{\"id\":\"1011\",\"type\":\"LinearAxis\"}],\"left\":[{\"id\":\"1016\",\"type\":\"LinearAxis\"}],\"renderers\":[{\"id\":\"1011\",\"type\":\"LinearAxis\"},{\"id\":\"1015\",\"type\":\"Grid\"},{\"id\":\"1016\",\"type\":\"LinearAxis\"},{\"id\":\"1020\",\"type\":\"Grid\"},{\"id\":\"1029\",\"type\":\"BoxAnnotation\"},{\"id\":\"1039\",\"type\":\"GlyphRenderer\"}],\"title\":{\"id\":\"1043\",\"type\":\"Title\"},\"toolbar\":{\"id\":\"1027\",\"type\":\"Toolbar\"},\"x_range\":{\"id\":\"1003\",\"type\":\"DataRange1d\"},\"x_scale\":{\"id\":\"1007\",\"type\":\"LinearScale\"},\"y_range\":{\"id\":\"1005\",\"type\":\"DataRange1d\"},\"y_scale\":{\"id\":\"1009\",\"type\":\"LinearScale\"}},\"id\":\"1002\",\"subtype\":\"Figure\",\"type\":\"Plot\"},{\"attributes\":{\"axis_label\":\"date\",\"formatter\":{\"id\":\"1041\",\"type\":\"DatetimeTickFormatter\"},\"plot\":{\"id\":\"1002\",\"subtype\":\"Figure\",\"type\":\"Plot\"},\"ticker\":{\"id\":\"1012\",\"type\":\"BasicTicker\"}},\"id\":\"1011\",\"type\":\"LinearAxis\"},{\"attributes\":{},\"id\":\"1025\",\"type\":\"ResetTool\"},{\"attributes\":{\"line_color\":\"#1f77b4\",\"line_width\":2,\"x\":{\"field\":\"x\"},\"y\":{\"field\":\"y\"}},\"id\":\"1037\",\"type\":\"Line\"},{\"attributes\":{},\"id\":\"1050\",\"type\":\"Selection\"},{\"attributes\":{},\"id\":\"1024\",\"type\":\"SaveTool\"},{\"attributes\":{},\"id\":\"1045\",\"type\":\"BasicTickFormatter\"},{\"attributes\":{\"plot\":{\"id\":\"1002\",\"subtype\":\"Figure\",\"type\":\"Plot\"},\"ticker\":{\"id\":\"1012\",\"type\":\"BasicTicker\"}},\"id\":\"1015\",\"type\":\"Grid\"},{\"attributes\":{\"callback\":null},\"id\":\"1003\",\"type\":\"DataRange1d\"},{\"attributes\":{\"overlay\":{\"id\":\"1029\",\"type\":\"BoxAnnotation\"}},\"id\":\"1023\",\"type\":\"BoxZoomTool\"},{\"attributes\":{\"dimension\":1,\"plot\":{\"id\":\"1002\",\"subtype\":\"Figure\",\"type\":\"Plot\"},\"ticker\":{\"id\":\"1017\",\"type\":\"BasicTicker\"}},\"id\":\"1020\",\"type\":\"Grid\"},{\"attributes\":{\"days\":[\"%d-%b-%Y\"]},\"id\":\"1041\",\"type\":\"DatetimeTickFormatter\"},{\"attributes\":{},\"id\":\"1021\",\"type\":\"PanTool\"},{\"attributes\":{},\"id\":\"1049\",\"type\":\"UnionRenderers\"},{\"attributes\":{\"axis_label\":\"net radiation w/m2\",\"formatter\":{\"id\":\"1045\",\"type\":\"BasicTickFormatter\"},\"plot\":{\"id\":\"1002\",\"subtype\":\"Figure\",\"type\":\"Plot\"},\"ticker\":{\"id\":\"1017\",\"type\":\"BasicTicker\"}},\"id\":\"1016\",\"type\":\"LinearAxis\"},{\"attributes\":{\"data_source\":{\"id\":\"1036\",\"type\":\"ColumnDataSource\"},\"glyph\":{\"id\":\"1037\",\"type\":\"Line\"},\"hover_glyph\":null,\"muted_glyph\":null,\"nonselection_glyph\":{\"id\":\"1038\",\"type\":\"Line\"},\"selection_glyph\":null,\"view\":{\"id\":\"1040\",\"type\":\"CDSView\"}},\"id\":\"1039\",\"type\":\"GlyphRenderer\"},{\"attributes\":{\"line_alpha\":0.1,\"line_color\":\"#1f77b4\",\"line_width\":2,\"x\":{\"field\":\"x\"},\"y\":{\"field\":\"y\"}},\"id\":\"1038\",\"type\":\"Line\"},{\"attributes\":{},\"id\":\"1007\",\"type\":\"LinearScale\"},{\"attributes\":{\"callback\":null},\"id\":\"1005\",\"type\":\"DataRange1d\"},{\"attributes\":{},\"id\":\"1017\",\"type\":\"BasicTicker\"},{\"attributes\":{\"plot\":null,\"text\":\"\"},\"id\":\"1043\",\"type\":\"Title\"},{\"attributes\":{},\"id\":\"1009\",\"type\":\"LinearScale\"},{\"attributes\":{\"bottom_units\":\"screen\",\"fill_alpha\":{\"value\":0.5},\"fill_color\":{\"value\":\"lightgrey\"},\"left_units\":\"screen\",\"level\":\"overlay\",\"line_alpha\":{\"value\":1.0},\"line_color\":{\"value\":\"black\"},\"line_dash\":[4,4],\"line_width\":{\"value\":2},\"plot\":null,\"render_mode\":\"css\",\"right_units\":\"screen\",\"top_units\":\"screen\"},\"id\":\"1029\",\"type\":\"BoxAnnotation\"},{\"attributes\":{},\"id\":\"1022\",\"type\":\"WheelZoomTool\"},{\"attributes\":{\"source\":{\"id\":\"1036\",\"type\":\"ColumnDataSource\"}},\"id\":\"1040\",\"type\":\"CDSView\"},{\"attributes\":{\"callback\":null,\"data\":{\"x\":{\"__ndarray__\":\"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\",\"dtype\":\"float64\",\"shape\":[730]},\"y\":{\"__ndarray__\":\"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\",\"dtype\":\"float64\",\"shape\":[730]}},\"selected\":{\"id\":\"1050\",\"type\":\"Selection\"},\"selection_policy\":{\"id\":\"1049\",\"type\":\"UnionRenderers\"}},\"id\":\"1036\",\"type\":\"ColumnDataSource\"},{\"attributes\":{},\"id\":\"1012\",\"type\":\"BasicTicker\"},{\"attributes\":{\"active_drag\":\"auto\",\"active_inspect\":\"auto\",\"active_multi\":null,\"active_scroll\":\"auto\",\"active_tap\":\"auto\",\"tools\":[{\"id\":\"1021\",\"type\":\"PanTool\"},{\"id\":\"1022\",\"type\":\"WheelZoomTool\"},{\"id\":\"1023\",\"type\":\"BoxZoomTool\"},{\"id\":\"1024\",\"type\":\"SaveTool\"},{\"id\":\"1025\",\"type\":\"ResetTool\"},{\"id\":\"1026\",\"type\":\"HelpTool\"}]},\"id\":\"1027\",\"type\":\"Toolbar\"},{\"attributes\":{},\"id\":\"1026\",\"type\":\"HelpTool\"}],\"root_ids\":[\"1002\"]},\"title\":\"Bokeh Application\",\"version\":\"1.0.4\"}};\n",
       "  var render_items = [{\"docid\":\"e999fb0c-45b3-45de-9cdf-d3d5aa9a28a1\",\"roots\":{\"1002\":\"6d0f04a5-02c6-4a45-aa9f-0ee3978c9835\"}}];\n",
       "  root.Bokeh.embed.embed_items_notebook(docs_json, render_items);\n",
       "\n",
       "  }\n",
       "  if (root.Bokeh !== undefined) {\n",
       "    embed_document(root);\n",
       "  } else {\n",
       "    var attempts = 0;\n",
       "    var timer = setInterval(function(root) {\n",
       "      if (root.Bokeh !== undefined) {\n",
       "        embed_document(root);\n",
       "        clearInterval(timer);\n",
       "      }\n",
       "      attempts++;\n",
       "      if (attempts > 100) {\n",
       "        console.log(\"Bokeh: ERROR: Unable to run BokehJS code because BokehJS library is missing\");\n",
       "        clearInterval(timer);\n",
       "      }\n",
       "    }, 10, root)\n",
       "  }\n",
       "})(window);"
      ],
      "application/vnd.bokehjs_exec.v0+json": ""
     },
     "metadata": {
      "application/vnd.bokehjs_exec.v0+json": {
       "id": "1002"
      }
     },
     "output_type": "display_data"
    }
   ],
   "source": [
    "# view time series of select variable\n",
    "p = figure(x_axis_label='date', y_axis_label='net radiation w/m2')\n",
    "p.line(q.df.index, q.df.Rn, line_width=2)\n",
    "p.xaxis.formatter = DatetimeTickFormatter(days=\"%d-%b-%Y\")\n",
    "show(p)"
   ]
  },
  {
   "cell_type": "markdown",
   "metadata": {},
   "source": [
    "## temporally aggregate to monthly data using sums for ET and P, and means for all others"
   ]
  },
  {
   "cell_type": "code",
   "execution_count": 19,
   "metadata": {},
   "outputs": [
    {
     "data": {
      "text/html": [
       "<div>\n",
       "<style scoped>\n",
       "    .dataframe tbody tr th:only-of-type {\n",
       "        vertical-align: middle;\n",
       "    }\n",
       "\n",
       "    .dataframe tbody tr th {\n",
       "        vertical-align: top;\n",
       "    }\n",
       "\n",
       "    .dataframe thead th {\n",
       "        text-align: right;\n",
       "    }\n",
       "</style>\n",
       "<table border=\"1\" class=\"dataframe\">\n",
       "  <thead>\n",
       "    <tr style=\"text-align: right;\">\n",
       "      <th></th>\n",
       "      <th>LE_adj</th>\n",
       "      <th>bowen_ratio</th>\n",
       "      <th>H_adj</th>\n",
       "      <th>flux</th>\n",
       "      <th>rso</th>\n",
       "      <th>flux_adj</th>\n",
       "      <th>energy</th>\n",
       "      <th>ebc_adj</th>\n",
       "      <th>ebc_reg</th>\n",
       "      <th>LE</th>\n",
       "      <th>H</th>\n",
       "      <th>Rn</th>\n",
       "      <th>G</th>\n",
       "      <th>et_reg</th>\n",
       "      <th>et_adj</th>\n",
       "    </tr>\n",
       "    <tr>\n",
       "      <th>month</th>\n",
       "      <th></th>\n",
       "      <th></th>\n",
       "      <th></th>\n",
       "      <th></th>\n",
       "      <th></th>\n",
       "      <th></th>\n",
       "      <th></th>\n",
       "      <th></th>\n",
       "      <th></th>\n",
       "      <th></th>\n",
       "      <th></th>\n",
       "      <th></th>\n",
       "      <th></th>\n",
       "      <th></th>\n",
       "      <th></th>\n",
       "    </tr>\n",
       "  </thead>\n",
       "  <tbody>\n",
       "    <tr>\n",
       "      <th>2009-10-31</th>\n",
       "      <td>20.425891</td>\n",
       "      <td>4.424525</td>\n",
       "      <td>60.916322</td>\n",
       "      <td>56.217613</td>\n",
       "      <td>213.253334</td>\n",
       "      <td>81.342213</td>\n",
       "      <td>80.497421</td>\n",
       "      <td>1.010495</td>\n",
       "      <td>0.698378</td>\n",
       "      <td>14.148116</td>\n",
       "      <td>42.069497</td>\n",
       "      <td>74.166506</td>\n",
       "      <td>-6.330915</td>\n",
       "      <td>NaN</td>\n",
       "      <td>NaN</td>\n",
       "    </tr>\n",
       "    <tr>\n",
       "      <th>2009-11-30</th>\n",
       "      <td>6.083669</td>\n",
       "      <td>11.336047</td>\n",
       "      <td>46.805297</td>\n",
       "      <td>34.648079</td>\n",
       "      <td>162.869272</td>\n",
       "      <td>52.888965</td>\n",
       "      <td>52.389511</td>\n",
       "      <td>1.009533</td>\n",
       "      <td>0.661355</td>\n",
       "      <td>3.930365</td>\n",
       "      <td>30.717714</td>\n",
       "      <td>43.967036</td>\n",
       "      <td>-8.422475</td>\n",
       "      <td>NaN</td>\n",
       "      <td>NaN</td>\n",
       "    </tr>\n",
       "    <tr>\n",
       "      <th>2009-12-31</th>\n",
       "      <td>9.685065</td>\n",
       "      <td>3.338348</td>\n",
       "      <td>21.958787</td>\n",
       "      <td>17.861036</td>\n",
       "      <td>140.694255</td>\n",
       "      <td>31.495460</td>\n",
       "      <td>31.804789</td>\n",
       "      <td>0.994940</td>\n",
       "      <td>0.561583</td>\n",
       "      <td>5.167479</td>\n",
       "      <td>12.693557</td>\n",
       "      <td>25.094329</td>\n",
       "      <td>-6.710460</td>\n",
       "      <td>NaN</td>\n",
       "      <td>NaN</td>\n",
       "    </tr>\n",
       "    <tr>\n",
       "      <th>2010-01-31</th>\n",
       "      <td>13.924331</td>\n",
       "      <td>1.546328</td>\n",
       "      <td>22.126359</td>\n",
       "      <td>12.142520</td>\n",
       "      <td>154.204780</td>\n",
       "      <td>35.850646</td>\n",
       "      <td>40.067152</td>\n",
       "      <td>0.899757</td>\n",
       "      <td>0.303054</td>\n",
       "      <td>5.093168</td>\n",
       "      <td>7.049352</td>\n",
       "      <td>35.738479</td>\n",
       "      <td>-4.328673</td>\n",
       "      <td>NaN</td>\n",
       "      <td>NaN</td>\n",
       "    </tr>\n",
       "    <tr>\n",
       "      <th>2010-02-28</th>\n",
       "      <td>33.068004</td>\n",
       "      <td>1.337181</td>\n",
       "      <td>43.872164</td>\n",
       "      <td>50.207264</td>\n",
       "      <td>197.213823</td>\n",
       "      <td>76.940168</td>\n",
       "      <td>76.038656</td>\n",
       "      <td>1.011856</td>\n",
       "      <td>0.660286</td>\n",
       "      <td>22.060393</td>\n",
       "      <td>28.146870</td>\n",
       "      <td>74.065540</td>\n",
       "      <td>-1.973116</td>\n",
       "      <td>NaN</td>\n",
       "      <td>NaN</td>\n",
       "    </tr>\n",
       "  </tbody>\n",
       "</table>\n",
       "</div>"
      ],
      "text/plain": [
       "               LE_adj  bowen_ratio      H_adj       flux         rso  \\\n",
       "month                                                                  \n",
       "2009-10-31  20.425891     4.424525  60.916322  56.217613  213.253334   \n",
       "2009-11-30   6.083669    11.336047  46.805297  34.648079  162.869272   \n",
       "2009-12-31   9.685065     3.338348  21.958787  17.861036  140.694255   \n",
       "2010-01-31  13.924331     1.546328  22.126359  12.142520  154.204780   \n",
       "2010-02-28  33.068004     1.337181  43.872164  50.207264  197.213823   \n",
       "\n",
       "             flux_adj     energy   ebc_adj   ebc_reg         LE          H  \\\n",
       "month                                                                        \n",
       "2009-10-31  81.342213  80.497421  1.010495  0.698378  14.148116  42.069497   \n",
       "2009-11-30  52.888965  52.389511  1.009533  0.661355   3.930365  30.717714   \n",
       "2009-12-31  31.495460  31.804789  0.994940  0.561583   5.167479  12.693557   \n",
       "2010-01-31  35.850646  40.067152  0.899757  0.303054   5.093168   7.049352   \n",
       "2010-02-28  76.940168  76.038656  1.011856  0.660286  22.060393  28.146870   \n",
       "\n",
       "                   Rn         G  et_reg  et_adj  \n",
       "month                                            \n",
       "2009-10-31  74.166506 -6.330915     NaN     NaN  \n",
       "2009-11-30  43.967036 -8.422475     NaN     NaN  \n",
       "2009-12-31  25.094329 -6.710460     NaN     NaN  \n",
       "2010-01-31  35.738479 -4.328673     NaN     NaN  \n",
       "2010-02-28  74.065540 -1.973116     NaN     NaN  "
      ]
     },
     "execution_count": 19,
     "metadata": {},
     "output_type": "execute_result"
    }
   ],
   "source": [
    "q.monthly_df.head()"
   ]
  },
  {
   "cell_type": "markdown",
   "metadata": {},
   "source": [
    "## compare monthly energy balance correction ratio with raw data and corrected"
   ]
  },
  {
   "cell_type": "code",
   "execution_count": 20,
   "metadata": {},
   "outputs": [
    {
     "data": {
      "text/html": [
       "\n",
       "\n",
       "\n",
       "\n",
       "\n",
       "\n",
       "  <div class=\"bk-root\" id=\"4bcb3c01-5a29-44ba-b3b7-6ac81bb70afb\" data-root-id=\"1099\"></div>\n"
      ]
     },
     "metadata": {},
     "output_type": "display_data"
    },
    {
     "data": {
      "application/javascript": [
       "(function(root) {\n",
       "  function embed_document(root) {\n",
       "    \n",
       "  var docs_json = {\"b73f1e34-9a78-4e13-a90b-12833402ed45\":{\"roots\":{\"references\":[{\"attributes\":{\"below\":[{\"id\":\"1108\",\"type\":\"LinearAxis\"}],\"left\":[{\"id\":\"1113\",\"type\":\"LinearAxis\"}],\"renderers\":[{\"id\":\"1108\",\"type\":\"LinearAxis\"},{\"id\":\"1112\",\"type\":\"Grid\"},{\"id\":\"1113\",\"type\":\"LinearAxis\"},{\"id\":\"1117\",\"type\":\"Grid\"},{\"id\":\"1126\",\"type\":\"BoxAnnotation\"},{\"id\":\"1145\",\"type\":\"Legend\"},{\"id\":\"1136\",\"type\":\"GlyphRenderer\"},{\"id\":\"1150\",\"type\":\"GlyphRenderer\"}],\"title\":{\"id\":\"1138\",\"type\":\"Title\"},\"toolbar\":{\"id\":\"1124\",\"type\":\"Toolbar\"},\"x_range\":{\"id\":\"1100\",\"type\":\"DataRange1d\"},\"x_scale\":{\"id\":\"1104\",\"type\":\"LinearScale\"},\"y_range\":{\"id\":\"1102\",\"type\":\"DataRange1d\"},\"y_scale\":{\"id\":\"1106\",\"type\":\"LinearScale\"}},\"id\":\"1099\",\"subtype\":\"Figure\",\"type\":\"Plot\"},{\"attributes\":{\"data_source\":{\"id\":\"1133\",\"type\":\"ColumnDataSource\"},\"glyph\":{\"id\":\"1134\",\"type\":\"Line\"},\"hover_glyph\":null,\"muted_glyph\":null,\"nonselection_glyph\":{\"id\":\"1135\",\"type\":\"Line\"},\"selection_glyph\":null,\"view\":{\"id\":\"1137\",\"type\":\"CDSView\"}},\"id\":\"1136\",\"type\":\"GlyphRenderer\"},{\"attributes\":{},\"id\":\"1118\",\"type\":\"PanTool\"},{\"attributes\":{},\"id\":\"1104\",\"type\":\"LinearScale\"},{\"attributes\":{},\"id\":\"1140\",\"type\":\"BasicTickFormatter\"},{\"attributes\":{},\"id\":\"1119\",\"type\":\"WheelZoomTool\"},{\"attributes\":{},\"id\":\"1160\",\"type\":\"Selection\"},{\"attributes\":{},\"id\":\"1180\",\"type\":\"UnionRenderers\"},{\"attributes\":{\"source\":{\"id\":\"1133\",\"type\":\"ColumnDataSource\"}},\"id\":\"1137\",\"type\":\"CDSView\"},{\"attributes\":{\"plot\":{\"id\":\"1099\",\"subtype\":\"Figure\",\"type\":\"Plot\"},\"ticker\":{\"id\":\"1109\",\"type\":\"BasicTicker\"}},\"id\":\"1112\",\"type\":\"Grid\"},{\"attributes\":{\"line_alpha\":0.1,\"line_color\":\"#1f77b4\",\"line_width\":2,\"x\":{\"field\":\"x\"},\"y\":{\"field\":\"y\"}},\"id\":\"1149\",\"type\":\"Line\"},{\"attributes\":{},\"id\":\"1114\",\"type\":\"BasicTicker\"},{\"attributes\":{\"callback\":null,\"data\":{\"x\":{\"__ndarray__\":\"AAAAQ35KckIAAIAvJlRyQgAAwIEgXnJCAAAA1BpockIAAAD1HXFyQgAAQEcYe3JCAADAM8CEckIAAACGuo5yQgAAgHJimHJCAADAxFyickIAAAAXV6xyQgAAgAP/tXJCAAAAQ35KckIAAIAvJlRyQgAAwIEgXnJCAAAA1BpockIAAAD1HXFyQgAAQEcYe3JCAADAM8CEckIAAACGuo5yQgAAgHJimHJCAADAxFyickIAAAAXV6xyQgAAgAP/tXJC\",\"dtype\":\"float64\",\"shape\":[24]},\"y\":{\"__ndarray__\":\"ob+Fb/wq8D+3+2SVDCfwPwN3qBGM1u8/C9TJps7K7D9j71vhjzDwP/3//////+8/AQAAAAAA8D9ao520UlDwP/7//////+8/AQAAAAAA8D8BAAAAAADwP5wSS+3GQvA/AAAAAAAA+H8AAAAAAAD4fwAAAAAAAPh/AAAAAAAA+H8AAAAAAAD4fwAAAAAAAPh/AAAAAAAA+H8AAAAAAAD4fwAAAAAAAPh/AAAAAAAA+H8AAAAAAAD4fwAAAAAAAPh/\",\"dtype\":\"float64\",\"shape\":[24]}},\"selected\":{\"id\":\"1181\",\"type\":\"Selection\"},\"selection_policy\":{\"id\":\"1180\",\"type\":\"UnionRenderers\"}},\"id\":\"1147\",\"type\":\"ColumnDataSource\"},{\"attributes\":{},\"id\":\"1159\",\"type\":\"UnionRenderers\"},{\"attributes\":{\"axis_label\":\"energy balance correction ratio\",\"formatter\":{\"id\":\"1140\",\"type\":\"BasicTickFormatter\"},\"plot\":{\"id\":\"1099\",\"subtype\":\"Figure\",\"type\":\"Plot\"},\"ticker\":{\"id\":\"1114\",\"type\":\"BasicTicker\"}},\"id\":\"1113\",\"type\":\"LinearAxis\"},{\"attributes\":{\"line_color\":\"#1f77b4\",\"line_width\":2,\"x\":{\"field\":\"x\"},\"y\":{\"field\":\"y\"}},\"id\":\"1148\",\"type\":\"Line\"},{\"attributes\":{\"items\":[{\"id\":\"1146\",\"type\":\"LegendItem\"},{\"id\":\"1161\",\"type\":\"LegendItem\"}],\"plot\":{\"id\":\"1099\",\"subtype\":\"Figure\",\"type\":\"Plot\"}},\"id\":\"1145\",\"type\":\"Legend\"},{\"attributes\":{},\"id\":\"1181\",\"type\":\"Selection\"},{\"attributes\":{\"axis_label\":\"date\",\"formatter\":{\"id\":\"1162\",\"type\":\"DatetimeTickFormatter\"},\"plot\":{\"id\":\"1099\",\"subtype\":\"Figure\",\"type\":\"Plot\"},\"ticker\":{\"id\":\"1109\",\"type\":\"BasicTicker\"}},\"id\":\"1108\",\"type\":\"LinearAxis\"},{\"attributes\":{\"label\":{\"value\":\"Corrected\"},\"renderers\":[{\"id\":\"1150\",\"type\":\"GlyphRenderer\"}]},\"id\":\"1161\",\"type\":\"LegendItem\"},{\"attributes\":{\"overlay\":{\"id\":\"1126\",\"type\":\"BoxAnnotation\"}},\"id\":\"1120\",\"type\":\"BoxZoomTool\"},{\"attributes\":{\"line_color\":\"red\",\"line_width\":2,\"x\":{\"field\":\"x\"},\"y\":{\"field\":\"y\"}},\"id\":\"1134\",\"type\":\"Line\"},{\"attributes\":{},\"id\":\"1123\",\"type\":\"HelpTool\"},{\"attributes\":{\"label\":{\"value\":\"Raw\"},\"renderers\":[{\"id\":\"1136\",\"type\":\"GlyphRenderer\"}]},\"id\":\"1146\",\"type\":\"LegendItem\"},{\"attributes\":{\"source\":{\"id\":\"1147\",\"type\":\"ColumnDataSource\"}},\"id\":\"1151\",\"type\":\"CDSView\"},{\"attributes\":{},\"id\":\"1106\",\"type\":\"LinearScale\"},{\"attributes\":{\"callback\":null,\"data\":{\"x\":{\"__ndarray__\":\"AAAAQ35KckIAAIAvJlRyQgAAwIEgXnJCAAAA1BpockIAAAD1HXFyQgAAQEcYe3JCAADAM8CEckIAAACGuo5yQgAAgHJimHJCAADAxFyickIAAAAXV6xyQgAAgAP/tXJCAAAAQ35KckIAAIAvJlRyQgAAwIEgXnJCAAAA1BpockIAAAD1HXFyQgAAQEcYe3JCAADAM8CEckIAAACGuo5yQgAAgHJimHJCAADAxFyickIAAAAXV6xyQgAAgAP/tXJC\",\"dtype\":\"float64\",\"shape\":[24]},\"y\":{\"__ndarray__\":\"EY4jcRxZ5j+DrYaL0inlP1dilF19+OE/KxluiT1l0z8W3xQ1ECHlP+KZXuSUD+c/e4Yv0juP6T+xHZRUhWXrP+XGdKZVPek/LHTuaPEj6j9BzycO0avpP4DpNOdkKec/AAAAAAAA+H8AAAAAAAD4fwAAAAAAAPh/AAAAAAAA+H8AAAAAAAD4fwAAAAAAAPh/AAAAAAAA+H8AAAAAAAD4fwAAAAAAAPh/AAAAAAAA+H8AAAAAAAD4fwAAAAAAAPh/\",\"dtype\":\"float64\",\"shape\":[24]}},\"selected\":{\"id\":\"1160\",\"type\":\"Selection\"},\"selection_policy\":{\"id\":\"1159\",\"type\":\"UnionRenderers\"}},\"id\":\"1133\",\"type\":\"ColumnDataSource\"},{\"attributes\":{},\"id\":\"1122\",\"type\":\"ResetTool\"},{\"attributes\":{\"bottom_units\":\"screen\",\"fill_alpha\":{\"value\":0.5},\"fill_color\":{\"value\":\"lightgrey\"},\"left_units\":\"screen\",\"level\":\"overlay\",\"line_alpha\":{\"value\":1.0},\"line_color\":{\"value\":\"black\"},\"line_dash\":[4,4],\"line_width\":{\"value\":2},\"plot\":null,\"render_mode\":\"css\",\"right_units\":\"screen\",\"top_units\":\"screen\"},\"id\":\"1126\",\"type\":\"BoxAnnotation\"},{\"attributes\":{\"days\":[\"%d-%b-%Y\"]},\"id\":\"1162\",\"type\":\"DatetimeTickFormatter\"},{\"attributes\":{\"callback\":null},\"id\":\"1100\",\"type\":\"DataRange1d\"},{\"attributes\":{\"dimension\":1,\"plot\":{\"id\":\"1099\",\"subtype\":\"Figure\",\"type\":\"Plot\"},\"ticker\":{\"id\":\"1114\",\"type\":\"BasicTicker\"}},\"id\":\"1117\",\"type\":\"Grid\"},{\"attributes\":{},\"id\":\"1109\",\"type\":\"BasicTicker\"},{\"attributes\":{\"line_alpha\":0.1,\"line_color\":\"#1f77b4\",\"line_width\":2,\"x\":{\"field\":\"x\"},\"y\":{\"field\":\"y\"}},\"id\":\"1135\",\"type\":\"Line\"},{\"attributes\":{\"data_source\":{\"id\":\"1147\",\"type\":\"ColumnDataSource\"},\"glyph\":{\"id\":\"1148\",\"type\":\"Line\"},\"hover_glyph\":null,\"muted_glyph\":null,\"nonselection_glyph\":{\"id\":\"1149\",\"type\":\"Line\"},\"selection_glyph\":null,\"view\":{\"id\":\"1151\",\"type\":\"CDSView\"}},\"id\":\"1150\",\"type\":\"GlyphRenderer\"},{\"attributes\":{\"callback\":null},\"id\":\"1102\",\"type\":\"DataRange1d\"},{\"attributes\":{\"active_drag\":\"auto\",\"active_inspect\":\"auto\",\"active_multi\":null,\"active_scroll\":\"auto\",\"active_tap\":\"auto\",\"tools\":[{\"id\":\"1118\",\"type\":\"PanTool\"},{\"id\":\"1119\",\"type\":\"WheelZoomTool\"},{\"id\":\"1120\",\"type\":\"BoxZoomTool\"},{\"id\":\"1121\",\"type\":\"SaveTool\"},{\"id\":\"1122\",\"type\":\"ResetTool\"},{\"id\":\"1123\",\"type\":\"HelpTool\"}]},\"id\":\"1124\",\"type\":\"Toolbar\"},{\"attributes\":{},\"id\":\"1121\",\"type\":\"SaveTool\"},{\"attributes\":{\"plot\":null,\"text\":\"\"},\"id\":\"1138\",\"type\":\"Title\"}],\"root_ids\":[\"1099\"]},\"title\":\"Bokeh Application\",\"version\":\"1.0.4\"}};\n",
       "  var render_items = [{\"docid\":\"b73f1e34-9a78-4e13-a90b-12833402ed45\",\"roots\":{\"1099\":\"4bcb3c01-5a29-44ba-b3b7-6ac81bb70afb\"}}];\n",
       "  root.Bokeh.embed.embed_items_notebook(docs_json, render_items);\n",
       "\n",
       "  }\n",
       "  if (root.Bokeh !== undefined) {\n",
       "    embed_document(root);\n",
       "  } else {\n",
       "    var attempts = 0;\n",
       "    var timer = setInterval(function(root) {\n",
       "      if (root.Bokeh !== undefined) {\n",
       "        embed_document(root);\n",
       "        clearInterval(timer);\n",
       "      }\n",
       "      attempts++;\n",
       "      if (attempts > 100) {\n",
       "        console.log(\"Bokeh: ERROR: Unable to run BokehJS code because BokehJS library is missing\");\n",
       "        clearInterval(timer);\n",
       "      }\n",
       "    }, 10, root)\n",
       "  }\n",
       "})(window);"
      ],
      "application/vnd.bokehjs_exec.v0+json": ""
     },
     "metadata": {
      "application/vnd.bokehjs_exec.v0+json": {
       "id": "1099"
      }
     },
     "output_type": "display_data"
    }
   ],
   "source": [
    "p = figure(x_axis_label='date', y_axis_label='energy balance correction ratio')\n",
    "p.line(q.monthly_df.index, q.monthly_df['ebc_reg'], color='red', legend=\"Raw\", line_width=2)\n",
    "p.line(q.monthly_df.index, q.monthly_df['ebc_adj'], legend=\"Corrected\", line_width=2)\n",
    "p.xaxis.formatter = DatetimeTickFormatter(days=\"%d-%b-%Y\")\n",
    "show(p)"
   ]
  },
  {
   "cell_type": "code",
   "execution_count": null,
   "metadata": {},
   "outputs": [],
   "source": []
  }
 ],
 "metadata": {
  "kernelspec": {
   "display_name": "Python 3",
   "language": "python",
   "name": "python3"
  },
  "language_info": {
   "codemirror_mode": {
    "name": "ipython",
    "version": 3
   },
   "file_extension": ".py",
   "mimetype": "text/x-python",
   "name": "python",
   "nbconvert_exporter": "python",
   "pygments_lexer": "ipython3",
   "version": "3.7.1"
  }
 },
 "nbformat": 4,
 "nbformat_minor": 2
}
